{
 "cells": [
  {
   "cell_type": "markdown",
   "id": "50e37c78",
   "metadata": {},
   "source": [
    "# Moving Files from Staging to Storage\n",
    "By Rachel Swallow \n",
    "\n",
    "To move a file in Python, we will need to import the os and shutil modules that provide us the ability to copy, move, and remove files in Python. Both of these modules provide methods to do so, although in many cases the shutil module has more convenient methods.\n",
    "\n",
    "The purpose of this code is to a created folder called 'Stagging' then a check with the API needs to occur then if it meets that condition it is moved to a 'Storage' folder (which will be later changed to the relevent backend solution). "
   ]
  },
  {
   "cell_type": "markdown",
   "id": "ab52d545",
   "metadata": {},
   "source": [
    "## Questions for the team \n",
    "* Files need to be moved from 'Downloads' (is it always downloaded here ? Should this be included in the readme ? Is there a way to specify where its stored in the webscraping code.)\n",
    "* I need to implement more error checks (maybe a later sprint goal)\n",
    "* The naming conventioin of the files needs to change to a standerdized thing. eg: Author then title\n",
    "* File download directory needs to be specified (preferably directly into staging).\n",
    "* Need to test if they already have folders named those things in the working directory\n",
    "* I probably have to write a docker image for this hey ?\n",
    "* Problem with removing file in home directory - python throws an error. Is there an alternative. "
   ]
  },
  {
   "cell_type": "markdown",
   "id": "29936811",
   "metadata": {},
   "source": [
    "## Initial Testing \n",
    "\n",
    "Some of the stuff here I saved to use for later "
   ]
  },
  {
   "cell_type": "code",
   "execution_count": 1,
   "id": "06d6b971",
   "metadata": {},
   "outputs": [],
   "source": [
    "import os\n",
    "import shutil"
   ]
  },
  {
   "cell_type": "markdown",
   "id": "32c24d9f",
   "metadata": {},
   "source": [
    "Also look at os.makedirs() method to create directory."
   ]
  },
  {
   "cell_type": "code",
   "execution_count": 2,
   "id": "d477b255",
   "metadata": {},
   "outputs": [],
   "source": [
    "mainpath=os.getcwd()  #fetches user's working directory \n",
    "directory1='Staging'\n",
    "\n",
    "stagingpath=os.path.join(mainpath,directory1) # directory path \n",
    "    \n",
    "# Create the directory \n",
    "# 'Staging'\n",
    "try: \n",
    "    os.mkdir(stagingpath)\n",
    "except OSError as error: \n",
    "    print(error) \n",
    "    #try:\n",
    "        #directory='Staging 2' #if there is already staging use staging 2.\n",
    "        #path = os.path.join(mainpath,directory)\n",
    "        #os.mkdir(stagingpath)\n",
    "    #except OSError as error:\n",
    "       # print(error)\n",
    "        \n",
    "directory=\"Storage\"\n",
    "# path \n",
    "storagepath = os.path.join(mainpath,directory)\n",
    "\n",
    "try: \n",
    "    os.mkdir(storagepath) \n",
    "except OSError as error: \n",
    "    print(error) \n",
    "    try:\n",
    "        directory='Storage 2' #if there is already staging use staging 2.\n",
    "        path = os.path.join(path,directory)\n",
    "        os.mkdir(storagepath)\n",
    "    except OSError as error:\n",
    "        print(error)"
   ]
  },
  {
   "cell_type": "markdown",
   "id": "286d1673",
   "metadata": {},
   "source": [
    "# Moving files into Staging\n",
    "The files should be moved from a tbc directory (thats generic to windows users) to the staging directory. "
   ]
  },
  {
   "cell_type": "code",
   "execution_count": 4,
   "id": "291806e8",
   "metadata": {},
   "outputs": [],
   "source": [
    "files = ['file1.pdf', 'file2.pdf', 'file3.pdf'] #generic names I used, this will need to be automated or the files may need to be stored in staging originally \n",
    "for f in files:\n",
    "    shutil.move(f, stagingpath) #"
   ]
  },
  {
   "cell_type": "markdown",
   "id": "567c77df",
   "metadata": {},
   "source": [
    "# Moving files into Storage\n",
    "In later implementations this will be replaced by first checking the API if the database has the pdf. "
   ]
  },
  {
   "cell_type": "code",
   "execution_count": 5,
   "id": "91512044",
   "metadata": {},
   "outputs": [
    {
     "name": "stdout",
     "output_type": "stream",
     "text": [
      "C:\\Users\\rswal\\FinTech Project\\information-retrieval\n",
      "C:\\Users\\rswal\\FinTech Project\\information-retrieval\\Staging\n"
     ]
    }
   ],
   "source": [
    "print(os.getcwd())\n",
    "os.chdir('Staging')\n",
    "print(os.getcwd())"
   ]
  },
  {
   "cell_type": "code",
   "execution_count": 6,
   "id": "de2496fe",
   "metadata": {},
   "outputs": [],
   "source": [
    "files=os. listdir()\n",
    "for f in files:\n",
    "    shutil.move(f, storagepath)"
   ]
  },
  {
   "cell_type": "markdown",
   "id": "16ae6702",
   "metadata": {},
   "source": [
    "## Modifying code to work on any computer\n",
    "* Mac or Linux: /home/username/arons-kit/staging\n",
    "* Windows: C:\\\\Users\\\\username\\\\arons-kit\\\\staging\n",
    "* All computers have a home directory"
   ]
  },
  {
   "cell_type": "markdown",
   "id": "f0b7543a",
   "metadata": {},
   "source": [
    "First we would get the user to log into their uct account and open jstor (logged in) so that we can begin scrapeing."
   ]
  },
  {
   "cell_type": "code",
   "execution_count": 7,
   "id": "11490e08",
   "metadata": {},
   "outputs": [
    {
     "data": {
      "text/plain": [
       "True"
      ]
     },
     "execution_count": 7,
     "metadata": {},
     "output_type": "execute_result"
    }
   ],
   "source": [
    "import earthpy as et\n",
    "et.io.HOME\n",
    "os.path.exists(et.io.HOME)"
   ]
  },
  {
   "cell_type": "code",
   "execution_count": 8,
   "id": "67304131",
   "metadata": {},
   "outputs": [],
   "source": [
    "aronspath=os.path.join(et.io.HOME, \"arons-kit\")\n",
    "os.mkdir(aronspath)# need to do some conditional statements here if the directory already exists.\n",
    "os.chdir(aronspath)"
   ]
  },
  {
   "cell_type": "code",
   "execution_count": 9,
   "id": "e838625b",
   "metadata": {},
   "outputs": [
    {
     "data": {
      "text/plain": [
       "'C:\\\\Users\\\\rswal\\\\arons-kit'"
      ]
     },
     "execution_count": 9,
     "metadata": {},
     "output_type": "execute_result"
    }
   ],
   "source": [
    "os.getcwd()"
   ]
  },
  {
   "cell_type": "code",
   "execution_count": 10,
   "id": "a0550331",
   "metadata": {},
   "outputs": [],
   "source": [
    "mainpath=os.getcwd()  #fetches user's working directory \n",
    "directory1='Staging'\n",
    "\n",
    "stagingpath=os.path.join(mainpath,directory1) # directory path \n",
    "    \n",
    "# Create the directory \n",
    "# 'Staging'\n",
    "try: \n",
    "    os.mkdir(stagingpath)\n",
    "except OSError as error: \n",
    "    print(error) \n",
    "    #try:\n",
    "        #directory='Staging 2' #if there is already staging use staging 2.\n",
    "        #path = os.path.join(mainpath,directory)\n",
    "        #os.mkdir(stagingpath)\n",
    "    #except OSError as error:\n",
    "       # print(error)\n",
    "        \n",
    "directory=\"Storage\"\n",
    "# path \n",
    "storagepath = os.path.join(mainpath,directory)\n",
    "\n",
    "try: \n",
    "    os.mkdir(storagepath) \n",
    "except OSError as error: \n",
    "    print(error) \n",
    "    try:\n",
    "        directory='Storage 2' #if there is already staging use staging 2.\n",
    "        path = os.path.join(path,directory)\n",
    "        os.mkdir(storagepath)\n",
    "    except OSError as error:\n",
    "        print(error)"
   ]
  },
  {
   "cell_type": "markdown",
   "id": "975b49b4",
   "metadata": {},
   "source": [
    "After this we would then check the master list(randomize this ?) for what webpages need to be scraped. The scrape those by finding them in jstor and then download these into the aron's kit directory under staging. After a certain number of articles have been scraped or a certain amount of time has passed, then the files (stored under the DOI name eg: 4953948753987539.pdf) (as as well as the meta data to be sent to the database) should be checked against the database. If we dont have the pdf in the database then the pdf should be sent to the S3 database and the metadata to the SQL one. For now , we will just move this file into storage as a dummmy way to check. "
   ]
  },
  {
   "cell_type": "markdown",
   "id": "5450760f",
   "metadata": {},
   "source": [
    "After the time period or number of articles (depending on what we choose) has been passed. The arons-kit directory should be deleted from the users directory so they don't get mad because we are using their storage. "
   ]
  },
  {
   "cell_type": "code",
   "execution_count": 11,
   "id": "6a430fdd",
   "metadata": {},
   "outputs": [],
   "source": [
    "os.chdir(stagingpath) #so we can delete the directory \n",
    "files=os.listdir()\n",
    "for f in files:\n",
    "    os.remove(f)"
   ]
  },
  {
   "cell_type": "code",
   "execution_count": 12,
   "id": "078103d0",
   "metadata": {},
   "outputs": [],
   "source": [
    "os.chdir(storagepath)#won't be necessary in future itterations\n",
    "files=os.listdir()\n",
    "for f in files:\n",
    "    os.remove(f)"
   ]
  },
  {
   "cell_type": "raw",
   "id": "62ee119b",
   "metadata": {},
   "source": [
    "Not letting me do this. Maybe it's okay if we don't delete the directory on the assumption that the user will help us again and thus won't mind having an empty directory, so we need to add an error check in the begining so that if the directory exists it won't make another one/ throw an error"
   ]
  },
  {
   "cell_type": "code",
   "execution_count": 16,
   "id": "4f526d3d",
   "metadata": {},
   "outputs": [],
   "source": [
    "#os.remove(stagingpath)\n",
    "#os.remove(storagepath)\n",
    "#os.remove(aronspath) #once all the files are gone, try delete the whole directory."
   ]
  }
 ],
 "metadata": {
  "kernelspec": {
   "display_name": "Python 3",
   "language": "python",
   "name": "python3"
  },
  "language_info": {
   "codemirror_mode": {
    "name": "ipython",
    "version": 3
   },
   "file_extension": ".py",
   "mimetype": "text/x-python",
   "name": "python",
   "nbconvert_exporter": "python",
   "pygments_lexer": "ipython3",
   "version": "3.8.5"
  }
 },
 "nbformat": 4,
 "nbformat_minor": 5
}
