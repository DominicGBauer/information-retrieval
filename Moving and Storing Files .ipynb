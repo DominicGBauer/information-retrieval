{
 "cells": [
  {
   "cell_type": "markdown",
   "source": [
    "# Moving Files from Staging to Storage\n",
    "By Rachel Swallow \n",
    "\n",
    "To move a file in Python, we will need to import the os and shutil modules that provide us the ability to copy, move, and remove files in Python. Both of these modules provide methods to do so, although in many cases the shutil module has more convenient methods.\n",
    "\n",
    "The purpose of this code is to a created folder called 'Stagging' then a check with the API needs to occur then if it meets that condition it is moved to a 'Storage' folder (which will be later changed to the relevent backend solution). "
   ],
   "metadata": {}
  },
  {
   "cell_type": "markdown",
   "source": [
    "## Questions for the team \n",
    "* Files need to be moved from 'Downloads' (is it always downloaded here ? Should this be included in the readme ? Is there a way to specify where its stored in the webscraping code.)\n",
    "* I need to implement more error checks (maybe a later sprint goal)\n",
    "* The naming conventioin of the files needs to change to a standerdized thing. eg: Author then title\n",
    "* File download directory needs to be specified (preferably directly into staging).\n",
    "* Need to test if they already have folders named those things in the working directory\n",
    "* I probably have to write a docker image for this hey ?\n",
    "* Problem with removing file in home directory - python throws an error. Is there an alternative. "
   ],
   "metadata": {}
  },
  {
   "cell_type": "markdown",
   "source": [
    "## Initial Testing \n",
    "\n",
    "Some of the stuff here I saved to use for later "
   ],
   "metadata": {}
  },
  {
   "cell_type": "code",
   "execution_count": 1,
   "source": [
    "import os\r\n",
    "import shutil"
   ],
   "outputs": [],
   "metadata": {}
  },
  {
   "cell_type": "markdown",
   "source": [
    "Also look at os.makedirs() method to create directory."
   ],
   "metadata": {}
  },
  {
   "cell_type": "code",
   "execution_count": 2,
   "source": [
    "mainpath=os.getcwd()  #fetches user's working directory \r\n",
    "directory1='Staging'\r\n",
    "\r\n",
    "stagingpath=os.path.join(mainpath,directory1) # directory path \r\n",
    "    \r\n",
    "# Create the directory \r\n",
    "# 'Staging'\r\n",
    "try: \r\n",
    "    os.mkdir(stagingpath)\r\n",
    "except OSError as error: \r\n",
    "    print(error) \r\n",
    "    #try:\r\n",
    "        #directory='Staging 2' #if there is already staging use staging 2.\r\n",
    "        #path = os.path.join(mainpath,directory)\r\n",
    "        #os.mkdir(stagingpath)\r\n",
    "    #except OSError as error:\r\n",
    "       # print(error)\r\n",
    "        \r\n",
    "directory=\"Storage\"\r\n",
    "# path \r\n",
    "storagepath = os.path.join(mainpath,directory)\r\n",
    "\r\n",
    "try: \r\n",
    "    os.mkdir(storagepath) \r\n",
    "except OSError as error: \r\n",
    "    print(error) \r\n",
    "    try:\r\n",
    "        directory='Storage 2' #if there is already staging use staging 2.\r\n",
    "        path = os.path.join(storagepath,directory)\r\n",
    "        os.mkdir(storagepath)\r\n",
    "    except OSError as error:\r\n",
    "        print(error)"
   ],
   "outputs": [],
   "metadata": {}
  },
  {
   "cell_type": "markdown",
   "source": [
    "# Moving files into Staging\n",
    "The files should be moved from a tbc directory (thats generic to windows users) to the staging directory. "
   ],
   "metadata": {}
  },
  {
   "cell_type": "code",
   "execution_count": 4,
   "source": [
    "files = ['file1.pdf', 'file2.pdf', 'file3.pdf'] #generic names I used, this will need to be automated or the files may need to be stored in staging originally \r\n",
    "for f in files:\r\n",
    "    shutil.move(f, stagingpath) #"
   ],
   "outputs": [],
   "metadata": {}
  },
  {
   "cell_type": "markdown",
   "source": [
    "# Moving files into Storage\n",
    "In later implementations this will be replaced by first checking the API if the database has the pdf. "
   ],
   "metadata": {}
  },
  {
   "cell_type": "code",
   "execution_count": 5,
   "source": [
    "print(os.getcwd())\r\n",
    "os.chdir('Staging')\r\n",
    "print(os.getcwd())"
   ],
   "outputs": [
    {
     "output_type": "stream",
     "name": "stdout",
     "text": [
      "C:\\Users\\rswal\\FinTech Project\\information-retrieval\n",
      "C:\\Users\\rswal\\FinTech Project\\information-retrieval\\Staging\n"
     ]
    }
   ],
   "metadata": {}
  },
  {
   "cell_type": "code",
   "execution_count": 6,
   "source": [
    "files=os. listdir()\r\n",
    "for f in files:\r\n",
    "    shutil.move(f, storagepath)"
   ],
   "outputs": [],
   "metadata": {}
  },
  {
   "cell_type": "markdown",
   "source": [
    "## Modifying code to work on any computer\n",
    "* Mac or Linux: /home/username/arons-kit/staging\n",
    "* Windows: C:\\\\Users\\\\username\\\\arons-kit\\\\staging\n",
    "* All computers have a home directory"
   ],
   "metadata": {}
  },
  {
   "cell_type": "markdown",
   "source": [
    "First we would get the user to log into their uct account and open jstor (logged in) so that we can begin scrapeing."
   ],
   "metadata": {}
  },
  {
   "cell_type": "code",
   "execution_count": 7,
   "source": [
    "import earthpy as et\r\n",
    "et.io.HOME\r\n",
    "os.path.exists(et.io.HOME)"
   ],
   "outputs": [
    {
     "output_type": "execute_result",
     "data": {
      "text/plain": [
       "True"
      ]
     },
     "metadata": {},
     "execution_count": 7
    }
   ],
   "metadata": {}
  },
  {
   "cell_type": "code",
   "execution_count": 8,
   "source": [
    "aronspath=os.path.join(et.io.HOME, \"arons-kit\")\r\n",
    "os.mkdir(aronspath)# need to do some conditional statements here if the directory already exists.\r\n",
    "os.chdir(aronspath)"
   ],
   "outputs": [],
   "metadata": {}
  },
  {
   "cell_type": "code",
   "execution_count": 9,
   "source": [
    "os.getcwd()"
   ],
   "outputs": [
    {
     "output_type": "execute_result",
     "data": {
      "text/plain": [
       "'C:\\\\Users\\\\rswal\\\\arons-kit'"
      ]
     },
     "metadata": {},
     "execution_count": 9
    }
   ],
   "metadata": {}
  },
  {
   "cell_type": "code",
   "execution_count": 10,
   "source": [
    "mainpath=os.getcwd()  #fetches user's working directory \r\n",
    "directory1='Staging'\r\n",
    "\r\n",
    "stagingpath=os.path.join(mainpath,directory1) # directory path \r\n",
    "    \r\n",
    "# Create the directory \r\n",
    "# 'Staging'\r\n",
    "try: \r\n",
    "    os.mkdir(stagingpath)\r\n",
    "except OSError as error: \r\n",
    "    print(error) \r\n",
    "    #try:\r\n",
    "        #directory='Staging 2' #if there is already staging use staging 2.\r\n",
    "        #path = os.path.join(mainpath,directory)\r\n",
    "        #os.mkdir(stagingpath)\r\n",
    "    #except OSError as error:\r\n",
    "       # print(error)\r\n",
    "        \r\n",
    "directory=\"Storage\"\r\n",
    "# path \r\n",
    "storagepath = os.path.join(mainpath,directory)\r\n",
    "\r\n",
    "try: \r\n",
    "    os.mkdir(storagepath) \r\n",
    "except OSError as error: \r\n",
    "    print(error) \r\n",
    "    try:\r\n",
    "        directory='Storage 2' #if there is already staging use staging 2.\r\n",
    "        path = os.path.join(path,directory)\r\n",
    "        os.mkdir(storagepath)\r\n",
    "    except OSError as error:\r\n",
    "        print(error)"
   ],
   "outputs": [],
   "metadata": {}
  },
  {
   "cell_type": "markdown",
   "source": [
    "After this we would then check the master list(randomize this ?) for what webpages need to be scraped. The scrape those by finding them in jstor and then download these into the aron's kit directory under staging. After a certain number of articles have been scraped or a certain amount of time has passed, then the files (stored under the DOI name eg: 4953948753987539.pdf) (as as well as the meta data to be sent to the database) should be checked against the database. If we dont have the pdf in the database then the pdf should be sent to the S3 database and the metadata to the SQL one. For now , we will just move this file into storage as a dummmy way to check. "
   ],
   "metadata": {}
  },
  {
   "cell_type": "markdown",
   "source": [
    "After the time period or number of articles (depending on what we choose) has been passed. The arons-kit directory should be deleted from the users directory so they don't get mad because we are using their storage. "
   ],
   "metadata": {}
  },
  {
   "cell_type": "code",
   "execution_count": 11,
   "source": [
    "os.chdir(stagingpath) #so we can delete the directory \r\n",
    "files=os.listdir()\r\n",
    "for f in files:\r\n",
    "    os.remove(f)"
   ],
   "outputs": [],
   "metadata": {}
  },
  {
   "cell_type": "code",
   "execution_count": 12,
   "source": [
    "os.chdir(storagepath)#won't be necessary in future itterations\r\n",
    "files=os.listdir()\r\n",
    "for f in files:\r\n",
    "    os.remove(f)"
   ],
   "outputs": [],
   "metadata": {}
  },
  {
   "cell_type": "raw",
   "source": [
    "Not letting me do this. Maybe it's okay if we don't delete the directory on the assumption that the user will help us again and thus won't mind having an empty directory, so we need to add an error check in the begining so that if the directory exists it won't make another one/ throw an error"
   ],
   "metadata": {}
  },
  {
   "cell_type": "code",
   "execution_count": 16,
   "source": [
    "#os.remove(stagingpath)\r\n",
    "#os.remove(storagepath)\r\n",
    "#os.remove(aronspath) #once all the files are gone, try delete the whole directory."
   ],
   "outputs": [],
   "metadata": {}
  }
 ],
 "metadata": {
  "kernelspec": {
   "display_name": "Python 3",
   "language": "python",
   "name": "python3"
  },
  "language_info": {
   "codemirror_mode": {
    "name": "ipython",
    "version": 3
   },
   "file_extension": ".py",
   "mimetype": "text/x-python",
   "name": "python",
   "nbconvert_exporter": "python",
   "pygments_lexer": "ipython3",
   "version": "3.8.5"
  }
 },
 "nbformat": 4,
 "nbformat_minor": 5
}