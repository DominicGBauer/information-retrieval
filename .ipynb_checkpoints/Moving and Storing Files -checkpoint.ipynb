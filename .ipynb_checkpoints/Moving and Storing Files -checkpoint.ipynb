{
 "cells": [
  {
   "cell_type": "markdown",
   "id": "50e37c78",
   "metadata": {},
   "source": [
    "# Moving Files from Staging to Storage\n",
    "By Rachel Swallow \n",
    "\n",
    "To move a file in Python, we will need to import the os and shutil modules that provide us the ability to copy, move, and remove files in Python. Both of these modules provide methods to do so, although in many cases the shutil module has more convenient methods.\n",
    "\n",
    "The purpose of this code is to a created folder called 'Stagging' then a check with the API needs to occur then if it meets that condition it is moved to a 'Storage' folder (which will be later changed to the relevent backend solution). "
   ]
  },
  {
   "cell_type": "markdown",
   "id": "ab52d545",
   "metadata": {},
   "source": [
    "## Questions for the team \n",
    "* Files need to be moved from 'Downloads' (is it always downloaded here ? Should this be included in the readme ? Is there a way to specify where its stored in the webscraping code.)\n",
    "* I need to implement more error checks (maybe a later sprint goal)\n",
    "* The naming conventioin of the files needs to change to a standerdized thing. eg: Author then title\n",
    "* File download directory needs to be specified (preferably directly into staging).\n",
    "* Need to test if they already have folders named those things in the working directory\n",
    "* I probably have to write a docker image for this hey ?\n",
    "* Problem with removing file in home directory - python throws an error. Is there an alternative. "
   ]
  },
  {
   "cell_type": "code",
   "execution_count": 1,
   "id": "06d6b971",
   "metadata": {},
   "outputs": [],
   "source": [
    "import os\n",
    "import shutil"
   ]
  },
  {
   "cell_type": "markdown",
   "id": "32c24d9f",
   "metadata": {},
   "source": [
    "Also look at os.makedirs() method to create directory."
   ]
  },
  {
   "cell_type": "code",
   "execution_count": 2,
   "id": "d477b255",
   "metadata": {},
   "outputs": [],
   "source": [
    "mainpath=os.getcwd()  #fetches user's working directory \n",
    "directory1='Staging'\n",
    "\n",
    "stagingpath=os.path.join(mainpath,directory1) # directory path \n",
    "    \n",
    "# Create the directory \n",
    "# 'Staging'\n",
    "try: \n",
    "    os.mkdir(stagingpath)\n",
    "except OSError as error: \n",
    "    print(error) \n",
    "    #try:\n",
    "        #directory='Staging 2' #if there is already staging use staging 2.\n",
    "        #path = os.path.join(mainpath,directory)\n",
    "        #os.mkdir(stagingpath)\n",
    "    #except OSError as error:\n",
    "       # print(error)\n",
    "        \n",
    "directory=\"Storage\"\n",
    "# path \n",
    "storagepath = os.path.join(mainpath,directory)\n",
    "\n",
    "try: \n",
    "    os.mkdir(storagepath) \n",
    "except OSError as error: \n",
    "    print(error) \n",
    "    try:\n",
    "        directory='Storage 2' #if there is already staging use staging 2.\n",
    "        path = os.path.join(path,directory)\n",
    "        os.mkdir(storagepath)\n",
    "    except OSError as error:\n",
    "        print(error)"
   ]
  },
  {
   "cell_type": "markdown",
   "id": "286d1673",
   "metadata": {},
   "source": [
    "# Moving files into Staging\n",
    "The files should be moved from a tbc directory (thats generic to windows users) to the staging directory. "
   ]
  },
  {
   "cell_type": "code",
   "execution_count": 3,
   "id": "291806e8",
   "metadata": {},
   "outputs": [
    {
     "ename": "FileNotFoundError",
     "evalue": "[Errno 2] No such file or directory: 'file1.pdf'",
     "output_type": "error",
     "traceback": [
      "\u001b[1;31m---------------------------------------------------------------------------\u001b[0m",
      "\u001b[1;31mFileNotFoundError\u001b[0m                         Traceback (most recent call last)",
      "\u001b[1;32m~\\anaconda3\\lib\\shutil.py\u001b[0m in \u001b[0;36mmove\u001b[1;34m(src, dst, copy_function)\u001b[0m\n\u001b[0;32m    787\u001b[0m     \u001b[1;32mtry\u001b[0m\u001b[1;33m:\u001b[0m\u001b[1;33m\u001b[0m\u001b[1;33m\u001b[0m\u001b[0m\n\u001b[1;32m--> 788\u001b[1;33m         \u001b[0mos\u001b[0m\u001b[1;33m.\u001b[0m\u001b[0mrename\u001b[0m\u001b[1;33m(\u001b[0m\u001b[0msrc\u001b[0m\u001b[1;33m,\u001b[0m \u001b[0mreal_dst\u001b[0m\u001b[1;33m)\u001b[0m\u001b[1;33m\u001b[0m\u001b[1;33m\u001b[0m\u001b[0m\n\u001b[0m\u001b[0;32m    789\u001b[0m     \u001b[1;32mexcept\u001b[0m \u001b[0mOSError\u001b[0m\u001b[1;33m:\u001b[0m\u001b[1;33m\u001b[0m\u001b[1;33m\u001b[0m\u001b[0m\n",
      "\u001b[1;31mFileNotFoundError\u001b[0m: [WinError 2] The system cannot find the file specified: 'file1.pdf' -> 'C:\\\\Users\\\\rswal\\\\FinTech Project\\\\information-retrieval\\\\Staging\\\\file1.pdf'",
      "\nDuring handling of the above exception, another exception occurred:\n",
      "\u001b[1;31mFileNotFoundError\u001b[0m                         Traceback (most recent call last)",
      "\u001b[1;32m<ipython-input-3-358b3f8f3274>\u001b[0m in \u001b[0;36m<module>\u001b[1;34m\u001b[0m\n\u001b[0;32m      1\u001b[0m \u001b[0mfiles\u001b[0m \u001b[1;33m=\u001b[0m \u001b[1;33m[\u001b[0m\u001b[1;34m'file1.pdf'\u001b[0m\u001b[1;33m,\u001b[0m \u001b[1;34m'file2.pdf'\u001b[0m\u001b[1;33m,\u001b[0m \u001b[1;34m'file3.pdf'\u001b[0m\u001b[1;33m]\u001b[0m \u001b[1;31m#generic names I used, this will need to be automated or the files may need to be stored in staging originally\u001b[0m\u001b[1;33m\u001b[0m\u001b[1;33m\u001b[0m\u001b[0m\n\u001b[0;32m      2\u001b[0m \u001b[1;32mfor\u001b[0m \u001b[0mf\u001b[0m \u001b[1;32min\u001b[0m \u001b[0mfiles\u001b[0m\u001b[1;33m:\u001b[0m\u001b[1;33m\u001b[0m\u001b[1;33m\u001b[0m\u001b[0m\n\u001b[1;32m----> 3\u001b[1;33m     \u001b[0mshutil\u001b[0m\u001b[1;33m.\u001b[0m\u001b[0mmove\u001b[0m\u001b[1;33m(\u001b[0m\u001b[0mf\u001b[0m\u001b[1;33m,\u001b[0m \u001b[0mstagingpath\u001b[0m\u001b[1;33m)\u001b[0m \u001b[1;31m#\u001b[0m\u001b[1;33m\u001b[0m\u001b[1;33m\u001b[0m\u001b[0m\n\u001b[0m",
      "\u001b[1;32m~\\anaconda3\\lib\\shutil.py\u001b[0m in \u001b[0;36mmove\u001b[1;34m(src, dst, copy_function)\u001b[0m\n\u001b[0;32m    800\u001b[0m             \u001b[0mrmtree\u001b[0m\u001b[1;33m(\u001b[0m\u001b[0msrc\u001b[0m\u001b[1;33m)\u001b[0m\u001b[1;33m\u001b[0m\u001b[1;33m\u001b[0m\u001b[0m\n\u001b[0;32m    801\u001b[0m         \u001b[1;32melse\u001b[0m\u001b[1;33m:\u001b[0m\u001b[1;33m\u001b[0m\u001b[1;33m\u001b[0m\u001b[0m\n\u001b[1;32m--> 802\u001b[1;33m             \u001b[0mcopy_function\u001b[0m\u001b[1;33m(\u001b[0m\u001b[0msrc\u001b[0m\u001b[1;33m,\u001b[0m \u001b[0mreal_dst\u001b[0m\u001b[1;33m)\u001b[0m\u001b[1;33m\u001b[0m\u001b[1;33m\u001b[0m\u001b[0m\n\u001b[0m\u001b[0;32m    803\u001b[0m             \u001b[0mos\u001b[0m\u001b[1;33m.\u001b[0m\u001b[0munlink\u001b[0m\u001b[1;33m(\u001b[0m\u001b[0msrc\u001b[0m\u001b[1;33m)\u001b[0m\u001b[1;33m\u001b[0m\u001b[1;33m\u001b[0m\u001b[0m\n\u001b[0;32m    804\u001b[0m     \u001b[1;32mreturn\u001b[0m \u001b[0mreal_dst\u001b[0m\u001b[1;33m\u001b[0m\u001b[1;33m\u001b[0m\u001b[0m\n",
      "\u001b[1;32m~\\anaconda3\\lib\\shutil.py\u001b[0m in \u001b[0;36mcopy2\u001b[1;34m(src, dst, follow_symlinks)\u001b[0m\n\u001b[0;32m    430\u001b[0m     \u001b[1;32mif\u001b[0m \u001b[0mos\u001b[0m\u001b[1;33m.\u001b[0m\u001b[0mpath\u001b[0m\u001b[1;33m.\u001b[0m\u001b[0misdir\u001b[0m\u001b[1;33m(\u001b[0m\u001b[0mdst\u001b[0m\u001b[1;33m)\u001b[0m\u001b[1;33m:\u001b[0m\u001b[1;33m\u001b[0m\u001b[1;33m\u001b[0m\u001b[0m\n\u001b[0;32m    431\u001b[0m         \u001b[0mdst\u001b[0m \u001b[1;33m=\u001b[0m \u001b[0mos\u001b[0m\u001b[1;33m.\u001b[0m\u001b[0mpath\u001b[0m\u001b[1;33m.\u001b[0m\u001b[0mjoin\u001b[0m\u001b[1;33m(\u001b[0m\u001b[0mdst\u001b[0m\u001b[1;33m,\u001b[0m \u001b[0mos\u001b[0m\u001b[1;33m.\u001b[0m\u001b[0mpath\u001b[0m\u001b[1;33m.\u001b[0m\u001b[0mbasename\u001b[0m\u001b[1;33m(\u001b[0m\u001b[0msrc\u001b[0m\u001b[1;33m)\u001b[0m\u001b[1;33m)\u001b[0m\u001b[1;33m\u001b[0m\u001b[1;33m\u001b[0m\u001b[0m\n\u001b[1;32m--> 432\u001b[1;33m     \u001b[0mcopyfile\u001b[0m\u001b[1;33m(\u001b[0m\u001b[0msrc\u001b[0m\u001b[1;33m,\u001b[0m \u001b[0mdst\u001b[0m\u001b[1;33m,\u001b[0m \u001b[0mfollow_symlinks\u001b[0m\u001b[1;33m=\u001b[0m\u001b[0mfollow_symlinks\u001b[0m\u001b[1;33m)\u001b[0m\u001b[1;33m\u001b[0m\u001b[1;33m\u001b[0m\u001b[0m\n\u001b[0m\u001b[0;32m    433\u001b[0m     \u001b[0mcopystat\u001b[0m\u001b[1;33m(\u001b[0m\u001b[0msrc\u001b[0m\u001b[1;33m,\u001b[0m \u001b[0mdst\u001b[0m\u001b[1;33m,\u001b[0m \u001b[0mfollow_symlinks\u001b[0m\u001b[1;33m=\u001b[0m\u001b[0mfollow_symlinks\u001b[0m\u001b[1;33m)\u001b[0m\u001b[1;33m\u001b[0m\u001b[1;33m\u001b[0m\u001b[0m\n\u001b[0;32m    434\u001b[0m     \u001b[1;32mreturn\u001b[0m \u001b[0mdst\u001b[0m\u001b[1;33m\u001b[0m\u001b[1;33m\u001b[0m\u001b[0m\n",
      "\u001b[1;32m~\\anaconda3\\lib\\shutil.py\u001b[0m in \u001b[0;36mcopyfile\u001b[1;34m(src, dst, follow_symlinks)\u001b[0m\n\u001b[0;32m    259\u001b[0m         \u001b[0mos\u001b[0m\u001b[1;33m.\u001b[0m\u001b[0msymlink\u001b[0m\u001b[1;33m(\u001b[0m\u001b[0mos\u001b[0m\u001b[1;33m.\u001b[0m\u001b[0mreadlink\u001b[0m\u001b[1;33m(\u001b[0m\u001b[0msrc\u001b[0m\u001b[1;33m)\u001b[0m\u001b[1;33m,\u001b[0m \u001b[0mdst\u001b[0m\u001b[1;33m)\u001b[0m\u001b[1;33m\u001b[0m\u001b[1;33m\u001b[0m\u001b[0m\n\u001b[0;32m    260\u001b[0m     \u001b[1;32melse\u001b[0m\u001b[1;33m:\u001b[0m\u001b[1;33m\u001b[0m\u001b[1;33m\u001b[0m\u001b[0m\n\u001b[1;32m--> 261\u001b[1;33m         \u001b[1;32mwith\u001b[0m \u001b[0mopen\u001b[0m\u001b[1;33m(\u001b[0m\u001b[0msrc\u001b[0m\u001b[1;33m,\u001b[0m \u001b[1;34m'rb'\u001b[0m\u001b[1;33m)\u001b[0m \u001b[1;32mas\u001b[0m \u001b[0mfsrc\u001b[0m\u001b[1;33m,\u001b[0m \u001b[0mopen\u001b[0m\u001b[1;33m(\u001b[0m\u001b[0mdst\u001b[0m\u001b[1;33m,\u001b[0m \u001b[1;34m'wb'\u001b[0m\u001b[1;33m)\u001b[0m \u001b[1;32mas\u001b[0m \u001b[0mfdst\u001b[0m\u001b[1;33m:\u001b[0m\u001b[1;33m\u001b[0m\u001b[1;33m\u001b[0m\u001b[0m\n\u001b[0m\u001b[0;32m    262\u001b[0m             \u001b[1;31m# macOS\u001b[0m\u001b[1;33m\u001b[0m\u001b[1;33m\u001b[0m\u001b[1;33m\u001b[0m\u001b[0m\n\u001b[0;32m    263\u001b[0m             \u001b[1;32mif\u001b[0m \u001b[0m_HAS_FCOPYFILE\u001b[0m\u001b[1;33m:\u001b[0m\u001b[1;33m\u001b[0m\u001b[1;33m\u001b[0m\u001b[0m\n",
      "\u001b[1;31mFileNotFoundError\u001b[0m: [Errno 2] No such file or directory: 'file1.pdf'"
     ]
    }
   ],
   "source": [
    "files = ['file1.pdf', 'file2.pdf', 'file3.pdf'] #generic names I used, this will need to be automated or the files may need to be stored in staging originally \n",
    "for f in files:\n",
    "    shutil.move(f, stagingpath) #"
   ]
  },
  {
   "cell_type": "markdown",
   "id": "567c77df",
   "metadata": {},
   "source": [
    "# Moving files into Storage\n",
    "In later implementations this will be replaced by first checking the API if the database has the pdf. "
   ]
  },
  {
   "cell_type": "code",
   "execution_count": null,
   "id": "91512044",
   "metadata": {},
   "outputs": [],
   "source": [
    "print(os.getcwd())\n",
    "os.chdir('Staging')\n",
    "print(os.getcwd())"
   ]
  },
  {
   "cell_type": "code",
   "execution_count": null,
   "id": "de2496fe",
   "metadata": {},
   "outputs": [],
   "source": [
    "files=os. listdir()\n",
    "for f in files:\n",
    "    shutil.move(f, storagepath)"
   ]
  },
  {
   "cell_type": "markdown",
   "id": "16ae6702",
   "metadata": {},
   "source": [
    "## Modifying code to work on any computer\n",
    "* Mac or Linux: /home/username/arons-kit/staging\n",
    "* Windows: C:\\\\Users\\\\username\\\\arons-kit\\\\staging\n",
    "* All computers have a home directory"
   ]
  },
  {
   "cell_type": "code",
   "execution_count": null,
   "id": "11490e08",
   "metadata": {},
   "outputs": [],
   "source": [
    "import earthpy as et\n",
    "et.io.HOME\n",
    "os.path.exists(et.io.HOME)"
   ]
  },
  {
   "cell_type": "code",
   "execution_count": null,
   "id": "67304131",
   "metadata": {},
   "outputs": [],
   "source": [
    "aronspath=os.path.join(et.io.HOME, \"arons-kit\")\n",
    "os.mkdir(aronspath)# need to do some conditional statements here if the directory already exists.\n",
    "os.chdir(aronspath)"
   ]
  },
  {
   "cell_type": "code",
   "execution_count": null,
   "id": "e838625b",
   "metadata": {},
   "outputs": [],
   "source": [
    "os.getcwd()"
   ]
  },
  {
   "cell_type": "code",
   "execution_count": null,
   "id": "a0550331",
   "metadata": {},
   "outputs": [],
   "source": [
    "mainpath=os.getcwd()  #fetches user's working directory \n",
    "directory1='Staging'\n",
    "\n",
    "stagingpath=os.path.join(mainpath,directory1) # directory path \n",
    "    \n",
    "# Create the directory \n",
    "# 'Staging'\n",
    "try: \n",
    "    os.mkdir(stagingpath)\n",
    "except OSError as error: \n",
    "    print(error) \n",
    "    #try:\n",
    "        #directory='Staging 2' #if there is already staging use staging 2.\n",
    "        #path = os.path.join(mainpath,directory)\n",
    "        #os.mkdir(stagingpath)\n",
    "    #except OSError as error:\n",
    "       # print(error)\n",
    "        \n",
    "directory=\"Storage\"\n",
    "# path \n",
    "storagepath = os.path.join(mainpath,directory)\n",
    "\n",
    "try: \n",
    "    os.mkdir(storagepath) \n",
    "except OSError as error: \n",
    "    print(error) \n",
    "    try:\n",
    "        directory='Storage 2' #if there is already staging use staging 2.\n",
    "        path = os.path.join(path,directory)\n",
    "        os.mkdir(storagepath)\n",
    "    except OSError as error:\n",
    "        print(error)"
   ]
  },
  {
   "cell_type": "code",
   "execution_count": null,
   "id": "4f526d3d",
   "metadata": {},
   "outputs": [],
   "source": [
    "os.remove(aronspath)"
   ]
  }
 ],
 "metadata": {
  "kernelspec": {
   "display_name": "Python 3",
   "language": "python",
   "name": "python3"
  },
  "language_info": {
   "codemirror_mode": {
    "name": "ipython",
    "version": 3
   },
   "file_extension": ".py",
   "mimetype": "text/x-python",
   "name": "python",
   "nbconvert_exporter": "python",
   "pygments_lexer": "ipython3",
   "version": "3.8.5"
  }
 },
 "nbformat": 4,
 "nbformat_minor": 5
}
